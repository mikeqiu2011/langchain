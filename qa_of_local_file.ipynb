{
 "cells": [
  {
   "cell_type": "code",
   "execution_count": 6,
   "id": "3bc91f17-9107-4022-a182-7adf15c84269",
   "metadata": {
    "tags": []
   },
   "outputs": [],
   "source": [
    "from langchain.embeddings.openai import OpenAIEmbeddings\n",
    "from langchain.vectorstores import Chroma\n",
    "from langchain.text_splitter import CharacterTextSplitter\n",
    "from langchain import OpenAI, VectorDBQA\n",
    "from langchain.document_loaders import DirectoryLoader\n",
    "# import magic\n",
    "import os\n",
    "import nltk"
   ]
  },
  {
   "cell_type": "code",
   "execution_count": 7,
   "id": "e743399e-4d03-44dc-95e2-8ebee0eb3193",
   "metadata": {
    "tags": []
   },
   "outputs": [],
   "source": [
    "loader = DirectoryLoader('PaulGrahamEssaySmall/', glob='*.txt')"
   ]
  },
  {
   "cell_type": "code",
   "execution_count": 18,
   "id": "035c934a-9841-487f-a402-1ec6529a283c",
   "metadata": {
    "tags": []
   },
   "outputs": [
    {
     "data": {
      "text/plain": [
       "15"
      ]
     },
     "execution_count": 18,
     "metadata": {},
     "output_type": "execute_result"
    }
   ],
   "source": [
    "documents = loader.load()\n",
    "len(documents)"
   ]
  },
  {
   "cell_type": "code",
   "execution_count": 28,
   "id": "2a6437e8-aaa1-4927-a382-6bd3cd8bdd6d",
   "metadata": {
    "tags": []
   },
   "outputs": [],
   "source": [
    "text_splitter = CharacterTextSplitter(chunk_size=1000, chunk_overlap=0)"
   ]
  },
  {
   "cell_type": "code",
   "execution_count": 29,
   "id": "4d23d1fe-d02b-4f10-b8f4-5d9f95eb311f",
   "metadata": {
    "tags": []
   },
   "outputs": [
    {
     "name": "stderr",
     "output_type": "stream",
     "text": [
      "Created a chunk of size 1115, which is longer than the specified 1000\n"
     ]
    },
    {
     "data": {
      "text/plain": [
       "18"
      ]
     },
     "execution_count": 29,
     "metadata": {},
     "output_type": "execute_result"
    }
   ],
   "source": [
    "texts = text_splitter.split_documents(documents)\n",
    "len(texts)"
   ]
  },
  {
   "cell_type": "code",
   "execution_count": 30,
   "id": "1d248738-ff7c-47d5-b23a-81d525739fd0",
   "metadata": {
    "tags": []
   },
   "outputs": [],
   "source": [
    "embeddings = OpenAIEmbeddings()"
   ]
  },
  {
   "cell_type": "code",
   "execution_count": 31,
   "id": "1c4f5f2b-b5dd-4510-9d9a-785917837857",
   "metadata": {
    "tags": []
   },
   "outputs": [
    {
     "name": "stderr",
     "output_type": "stream",
     "text": [
      "Using embedded DuckDB without persistence: data will be transient\n"
     ]
    }
   ],
   "source": [
    "docsearch = Chroma.from_documents(texts, embeddings)"
   ]
  },
  {
   "cell_type": "code",
   "execution_count": 34,
   "id": "b12a9b42-2a47-4a4c-88f7-d4e74620a656",
   "metadata": {
    "tags": []
   },
   "outputs": [
    {
     "name": "stderr",
     "output_type": "stream",
     "text": [
      "/Users/tongmeiyi/code/jupyter/mike/venv/lib/python3.9/site-packages/langchain/chains/retrieval_qa/base.py:186: UserWarning: `VectorDBQA` is deprecated - please use `from langchain.chains import RetrievalQA`\n",
      "  warnings.warn(\n"
     ]
    }
   ],
   "source": [
    "qa = VectorDBQA.from_chain_type(llm=OpenAI(), chain_type='stuff', vectorstore=docsearch)"
   ]
  },
  {
   "cell_type": "code",
   "execution_count": 35,
   "id": "e3c00120-f912-4ea3-b4d9-e63b3b635d17",
   "metadata": {
    "tags": []
   },
   "outputs": [
    {
     "data": {
      "text/plain": [
       "' John McCarthy discovered a way to build a programming language using a handful of simple operators and a notation for functions. He called this language Lisp, for \"List Processing,\" because he used a simple data structure called a list for both code and data.'"
      ]
     },
     "execution_count": 35,
     "metadata": {},
     "output_type": "execute_result"
    }
   ],
   "source": [
    "query = 'what did mccarthy discover?'\n",
    "qa.run(query)"
   ]
  },
  {
   "cell_type": "markdown",
   "id": "4f108378-234b-4271-9e2e-452052dc9621",
   "metadata": {},
   "source": [
    "# sources"
   ]
  },
  {
   "cell_type": "code",
   "execution_count": 37,
   "id": "4d60fffa-0dc1-4439-a193-652c0956306b",
   "metadata": {
    "tags": []
   },
   "outputs": [
    {
     "data": {
      "text/plain": [
       "' In 1960, John McCarthy published a remarkable paper in which he showed how, given a handful of simple operators and a notation for functions, you can build a whole programming language. He called this language Lisp, for \"List Processing,\" because one of his key ideas was to use a simple data structure called a list for both code and data.'"
      ]
     },
     "execution_count": 37,
     "metadata": {},
     "output_type": "execute_result"
    }
   ],
   "source": [
    "qa = VectorDBQA.from_chain_type(llm=OpenAI(), \n",
    "                                chain_type='stuff', \n",
    "                                vectorstore=docsearch, \n",
    "                                return_source_documents=True)\n",
    "\n",
    "result = qa({'query': query})\n",
    "result['result']"
   ]
  },
  {
   "cell_type": "code",
   "execution_count": 39,
   "id": "9f518440-be09-4569-8fb9-ff3f1d04460d",
   "metadata": {
    "tags": []
   },
   "outputs": [
    {
     "data": {
      "text/plain": [
       "[Document(page_content='(I wrote this article to help myself understand exactly what McCarthy discovered.  You don\\'t need to know this stuff to program in Lisp, but it should be helpful to anyone who wants to understand the essence of Lisp \\x97 both in the sense of its origins and its semantic core.  The fact that it has such a core is one of Lisp\\'s distinguishing features, and the reason why, unlike other languages, Lisp has dialects.)In 1960, John McCarthy published a remarkable paper in which he did for programming something like what Euclid did for geometry. He showed how, given a handful of simple operators and a notation for functions, you can build a whole programming language. He called this language Lisp, for \"List Processing,\" because one of his key ideas was to use a simple data structure called a list for both code and data.It\\'s worth understanding what McCarthy discovered, not just as a landmark in the history of computers, but as a model for what programming is tending to become in our own time.  It seems to me that there have been two really clean, consistent models of programming so far: the C model and the Lisp model. These two seem points of high ground, with swampy lowlands between them.  As computers have grown more powerful, the new languages being developed have been moving steadily toward the Lisp model.  A popular recipe for new programming languages in the past 20 years has been to take the C model of computing and add to it, piecemeal, parts taken from the Lisp model, like runtime typing and garbage collection.In this article I\\'m going to try to explain in the simplest possible terms what McCarthy discovered. The point is not just to learn about an interesting theoretical result someone figured out forty years ago, but to show where languages are heading. The unusual thing about Lisp \\x97 in fact, the defining quality of Lisp \\x97 is that it can be written in itself.  To understand what McCarthy meant by this, we\\'re going to retrace his steps, with his mathematical notation translated into running Common Lisp code.', metadata={'source': 'PaulGrahamEssaySmall/rootsoflisp.txt'}),\n",
       " Document(page_content=\"November 2019If you discover something new, there's a significant chance you'll be accused of some form of heresy.To discover new things, you have to work on ideas that are good but non-obvious; if an idea is obviously good, other people are probably already working on it. One common way for a good idea to be non-obvious is for it to be hidden in the shadow of some mistaken assumption that people are very attached to. But anything you discover from working on such an idea will tend to contradict the mistaken assumption that was concealing it.  And you will thus get a lot of heat from people attached to the mistaken assumption. Galileo and Darwin are famous examples of this phenomenon, but it's probably always an ingredient in the resistance to new ideas.So it's particularly dangerous for an organization or society to have a culture of pouncing on heresy.  When you suppress heresies, you don't just prevent people from contradicting the mistaken assumption you're trying to protect. You also suppress any idea that implies indirectly that it's false. Every cherished mistaken assumption has a dead zone of unexplored ideas around it.  And the more preposterous the assumption, the bigger the dead zone it creates.There is a positive side to this phenomenon though.  If you're looking for new ideas, one way to find them is by looking for heresies.  When you look at the question this way, the depressingly large dead zones around mistaken assumptions become excitingly large mines of new ideas.\", metadata={'source': 'PaulGrahamEssaySmall/nov.txt'}),\n",
       " Document(page_content=\"January 2023(Someone fed my essays into GPT to make something that could answer questions based on them, then asked it where good ideas come from.  The answer was ok, but not what I would have said. This is what I would have said.)The way to get new ideas is to notice anomalies: what seems strange, or missing, or broken? You can see anomalies in everyday life (much of standup comedy is based on this), but the best place to look for them is at the frontiers of knowledge.Knowledge grows fractally. From a distance its edges look smooth, but when you learn enough to get close to one, you'll notice it's full of gaps. These gaps will seem obvious; it will seem inexplicable that no one has tried x or wondered about y. In the best case, exploring such gaps yields whole new fractal buds.\", metadata={'source': 'PaulGrahamEssaySmall/getideas.txt'}),\n",
       " Document(page_content='May 2001', metadata={'source': 'PaulGrahamEssaySmall/rootsoflisp.txt'})]"
      ]
     },
     "execution_count": 39,
     "metadata": {},
     "output_type": "execute_result"
    }
   ],
   "source": [
    "result['source_documents']"
   ]
  },
  {
   "cell_type": "code",
   "execution_count": null,
   "id": "ee9c313b-e694-4694-95a1-90f10c5c624f",
   "metadata": {},
   "outputs": [],
   "source": []
  }
 ],
 "metadata": {
  "kernelspec": {
   "display_name": "Python 3 (ipykernel)",
   "language": "python",
   "name": "python3"
  },
  "language_info": {
   "codemirror_mode": {
    "name": "ipython",
    "version": 3
   },
   "file_extension": ".py",
   "mimetype": "text/x-python",
   "name": "python",
   "nbconvert_exporter": "python",
   "pygments_lexer": "ipython3",
   "version": "3.9.6"
  }
 },
 "nbformat": 4,
 "nbformat_minor": 5
}
