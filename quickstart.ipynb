{
 "cells": [
  {
   "cell_type": "code",
   "execution_count": 1,
   "id": "b155b8a8-a9f5-4ebd-8700-7363b6e89221",
   "metadata": {
    "tags": []
   },
   "outputs": [],
   "source": [
    "import os\n",
    "from langchain.llms import OpenAI\n",
    "openai_api_key = os.getenv('OPENAI_API_KEY')"
   ]
  },
  {
   "cell_type": "code",
   "execution_count": 3,
   "id": "e91ac7e6-4159-46d4-b0a9-32b8947ebe1f",
   "metadata": {
    "tags": []
   },
   "outputs": [],
   "source": [
    "llm = OpenAI(temperature=0.9)"
   ]
  },
  {
   "cell_type": "code",
   "execution_count": 5,
   "id": "adcbaa14-58cb-4209-a8a6-cb6df8d3d41b",
   "metadata": {
    "tags": []
   },
   "outputs": [
    {
     "name": "stdout",
     "output_type": "stream",
     "text": [
      "\n",
      "\n",
      "1. Rome, Italy\n",
      "2. Tuscany, Italy\n",
      "3. Amalfi Coast, Italy\n",
      "4. Venice, Italy\n",
      "5. Naples, Italy\n"
     ]
    }
   ],
   "source": [
    "text = 'what are 5 vacation destinations for someone who likes to eat pasta'\n",
    "print(llm(text))"
   ]
  },
  {
   "cell_type": "code",
   "execution_count": 6,
   "id": "7b328fcf-c030-4c68-88db-b9f0b8bdaa36",
   "metadata": {
    "tags": []
   },
   "outputs": [],
   "source": [
    "from langchain.prompts import PromptTemplate"
   ]
  },
  {
   "cell_type": "code",
   "execution_count": 7,
   "id": "f90dddeb-b04e-469b-876e-0589df3ef5d7",
   "metadata": {
    "tags": []
   },
   "outputs": [],
   "source": [
    "prompt = PromptTemplate(input_variables=['food'],\n",
    "              template='what are 5 vacation destinations for someone who likes to eat {food}?')"
   ]
  },
  {
   "cell_type": "code",
   "execution_count": 10,
   "id": "54f07e79-eda6-448d-908a-af7832a67457",
   "metadata": {
    "tags": []
   },
   "outputs": [
    {
     "data": {
      "text/plain": [
       "'what are 5 vacation destinations for someone who likes to eat dessert?'"
      ]
     },
     "execution_count": 10,
     "metadata": {},
     "output_type": "execute_result"
    }
   ],
   "source": [
    "prompt_final = prompt.format(food='dessert')\n",
    "prompt_final"
   ]
  },
  {
   "cell_type": "code",
   "execution_count": 12,
   "id": "c19a6722-9bf4-40d6-a10d-f5caf495e65e",
   "metadata": {
    "tags": []
   },
   "outputs": [
    {
     "name": "stdout",
     "output_type": "stream",
     "text": [
      "\n",
      "\n",
      "1. Paris, France \n",
      "2. New York City, USA \n",
      "3. Bangkok, Thailand \n",
      "4. Rome, Italy \n",
      "5. Buenos Aires, Argentina\n"
     ]
    }
   ],
   "source": [
    "print(llm(prompt_final))"
   ]
  },
  {
   "cell_type": "markdown",
   "id": "4d3cc195-f393-41b7-bfcb-1423d5025a8f",
   "metadata": {},
   "source": [
    "# chain"
   ]
  },
  {
   "cell_type": "code",
   "execution_count": 13,
   "id": "e044e36f-f5b7-4e4d-b565-3328917aa814",
   "metadata": {
    "tags": []
   },
   "outputs": [],
   "source": [
    "from langchain.chains import LLMChain"
   ]
  },
  {
   "cell_type": "code",
   "execution_count": 14,
   "id": "52906f4f-82b8-4a63-8831-f2501ae2fee7",
   "metadata": {
    "tags": []
   },
   "outputs": [
    {
     "name": "stdout",
     "output_type": "stream",
     "text": [
      "\n",
      "\n",
      "1. Hawaii \n",
      "2. Thailand \n",
      "3. Costa Rica \n",
      "4. Spain \n",
      "5. South Africa\n"
     ]
    }
   ],
   "source": [
    "chain = LLMChain(llm=llm, prompt=prompt)\n",
    "print(chain.run('fruit'))"
   ]
  },
  {
   "cell_type": "markdown",
   "id": "c58e4040-80f3-4ea7-b2f7-bf41b7c65c32",
   "metadata": {},
   "source": [
    "# agents"
   ]
  },
  {
   "cell_type": "code",
   "execution_count": 17,
   "id": "0ca5ab54-6f3c-4636-8606-d35731677d96",
   "metadata": {
    "tags": []
   },
   "outputs": [],
   "source": [
    "from langchain.agents import load_tools, initialize_agent"
   ]
  },
  {
   "cell_type": "markdown",
   "id": "60980ecc-fd09-488a-877c-c3f634674a17",
   "metadata": {},
   "source": [
    "# memory"
   ]
  },
  {
   "cell_type": "code",
   "execution_count": 18,
   "id": "4f573095-e97f-4e51-988d-3c4dd6c49527",
   "metadata": {
    "tags": []
   },
   "outputs": [],
   "source": [
    "from langchain import ConversationChain"
   ]
  },
  {
   "cell_type": "code",
   "execution_count": 19,
   "id": "bc7ef306-3381-4d20-858d-3b09b699201d",
   "metadata": {
    "tags": []
   },
   "outputs": [],
   "source": [
    "conversation = ConversationChain(llm=llm, verbose=True)"
   ]
  },
  {
   "cell_type": "code",
   "execution_count": 20,
   "id": "603b8f4d-9d79-42c0-ad60-27b54724c951",
   "metadata": {
    "tags": []
   },
   "outputs": [
    {
     "name": "stdout",
     "output_type": "stream",
     "text": [
      "\n",
      "\n",
      "\u001b[1m> Entering new ConversationChain chain...\u001b[0m\n",
      "Prompt after formatting:\n",
      "\u001b[32;1m\u001b[1;3mThe following is a friendly conversation between a human and an AI. The AI is talkative and provides lots of specific details from its context. If the AI does not know the answer to a question, it truthfully says it does not know.\n",
      "\n",
      "Current conversation:\n",
      "\n",
      "Human: Hi there!\n",
      "AI:\u001b[0m\n",
      "\n",
      "\u001b[1m> Finished chain.\u001b[0m\n"
     ]
    },
    {
     "data": {
      "text/plain": [
       "' Hello! How are you doing?'"
      ]
     },
     "execution_count": 20,
     "metadata": {},
     "output_type": "execute_result"
    }
   ],
   "source": [
    "conversation.predict(input='Hi there!')"
   ]
  },
  {
   "cell_type": "code",
   "execution_count": 21,
   "id": "363373b1-b8d9-460e-b919-db923499915b",
   "metadata": {
    "tags": []
   },
   "outputs": [
    {
     "name": "stdout",
     "output_type": "stream",
     "text": [
      "\n",
      "\n",
      "\u001b[1m> Entering new ConversationChain chain...\u001b[0m\n",
      "Prompt after formatting:\n",
      "\u001b[32;1m\u001b[1;3mThe following is a friendly conversation between a human and an AI. The AI is talkative and provides lots of specific details from its context. If the AI does not know the answer to a question, it truthfully says it does not know.\n",
      "\n",
      "Current conversation:\n",
      "Human: Hi there!\n",
      "AI:  Hello! How are you doing?\n",
      "Human: i am doing well! just having a conversation with an AI.\n",
      "AI:\u001b[0m\n",
      "\n",
      "\u001b[1m> Finished chain.\u001b[0m\n"
     ]
    },
    {
     "data": {
      "text/plain": [
       "\" That's great! How is it going so far? Have you been able to ask any questions that you wanted to?\""
      ]
     },
     "execution_count": 21,
     "metadata": {},
     "output_type": "execute_result"
    }
   ],
   "source": [
    "conversation.predict(input='i am doing well! just having a conversation with an AI.')"
   ]
  },
  {
   "cell_type": "code",
   "execution_count": 22,
   "id": "e4e19f5c-cd64-417c-ba0d-90f475467939",
   "metadata": {
    "tags": []
   },
   "outputs": [
    {
     "name": "stdout",
     "output_type": "stream",
     "text": [
      "\n",
      "\n",
      "\u001b[1m> Entering new ConversationChain chain...\u001b[0m\n",
      "Prompt after formatting:\n",
      "\u001b[32;1m\u001b[1;3mThe following is a friendly conversation between a human and an AI. The AI is talkative and provides lots of specific details from its context. If the AI does not know the answer to a question, it truthfully says it does not know.\n",
      "\n",
      "Current conversation:\n",
      "Human: Hi there!\n",
      "AI:  Hello! How are you doing?\n",
      "Human: i am doing well! just having a conversation with an AI.\n",
      "AI:  That's great! How is it going so far? Have you been able to ask any questions that you wanted to?\n",
      "Human: what was the first thing i said to you?\n",
      "AI:\u001b[0m\n",
      "\n",
      "\u001b[1m> Finished chain.\u001b[0m\n"
     ]
    },
    {
     "data": {
      "text/plain": [
       "' You said, \"Hi there!\"'"
      ]
     },
     "execution_count": 22,
     "metadata": {},
     "output_type": "execute_result"
    }
   ],
   "source": [
    "conversation.predict(input='what was the first thing i said to you?')"
   ]
  },
  {
   "cell_type": "code",
   "execution_count": null,
   "id": "d4de6a6b-b36f-4f59-bc48-39ed39889c5a",
   "metadata": {},
   "outputs": [],
   "source": []
  }
 ],
 "metadata": {
  "kernelspec": {
   "display_name": "Python 3 (ipykernel)",
   "language": "python",
   "name": "python3"
  },
  "language_info": {
   "codemirror_mode": {
    "name": "ipython",
    "version": 3
   },
   "file_extension": ".py",
   "mimetype": "text/x-python",
   "name": "python",
   "nbconvert_exporter": "python",
   "pygments_lexer": "ipython3",
   "version": "3.9.6"
  }
 },
 "nbformat": 4,
 "nbformat_minor": 5
}
