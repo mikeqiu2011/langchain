{
 "cells": [
  {
   "cell_type": "code",
   "execution_count": 1,
   "id": "9decddde-99ae-47dc-8a7b-3188d85ac946",
   "metadata": {
    "tags": []
   },
   "outputs": [],
   "source": [
    "from langchain.agents import load_tools, initialize_agent\n",
    "from langchain.llms import OpenAI"
   ]
  },
  {
   "cell_type": "code",
   "execution_count": 2,
   "id": "f5ce574e-ac29-44d5-ae15-57a54ff8e67f",
   "metadata": {},
   "outputs": [],
   "source": [
    "llm = OpenAI(temperature=0)"
   ]
  },
  {
   "cell_type": "code",
   "execution_count": 3,
   "id": "25558102-2adb-4dbd-9f83-fc203e9e0ad3",
   "metadata": {
    "tags": []
   },
   "outputs": [],
   "source": [
    "tool_names = ['serpapi']\n",
    "tools = load_tools(tool_names)"
   ]
  },
  {
   "cell_type": "code",
   "execution_count": 4,
   "id": "42d3adc4-4615-4f2e-9290-daa1e7c2cf55",
   "metadata": {
    "tags": []
   },
   "outputs": [],
   "source": [
    "agent = initialize_agent(tools, llm, agent='zero-shot-react-description', verbose=True)"
   ]
  },
  {
   "cell_type": "code",
   "execution_count": 5,
   "id": "f9ce36b5-c476-4688-bf40-3bbed6aab161",
   "metadata": {
    "tags": []
   },
   "outputs": [
    {
     "name": "stdout",
     "output_type": "stream",
     "text": [
      "\n",
      "\n",
      "\u001b[1m> Entering new AgentExecutor chain...\u001b[0m\n",
      "\u001b[32;1m\u001b[1;3m I should research this term\n",
      "Action: Search\n",
      "Action Input: \"langchain\"\u001b[0m\n",
      "Observation: \u001b[36;1m\u001b[1;3mLangChain is a framework for developing applications powered by language models. We believe that the most powerful and differentiated applications will not only ...\u001b[0m\n",
      "Thought:\u001b[32;1m\u001b[1;3m I should read more about langchain\n",
      "Action: Search\n",
      "Action Input: \"langchain applications\"\u001b[0m\n",
      "Observation: \u001b[36;1m\u001b[1;3mLangChain provides a standard interface for chains, lots of integrations with other tools, and end-to-end chains for common applications.\u001b[0m\n",
      "Thought:\u001b[32;1m\u001b[1;3m I now know the final answer\n",
      "Final Answer: LangChain is a framework for developing applications powered by language models. It provides a standard interface for chains, lots of integrations with other tools, and end-to-end chains for common applications.\u001b[0m\n",
      "\n",
      "\u001b[1m> Finished chain.\u001b[0m\n"
     ]
    },
    {
     "data": {
      "text/plain": [
       "'LangChain is a framework for developing applications powered by language models. It provides a standard interface for chains, lots of integrations with other tools, and end-to-end chains for common applications.'"
      ]
     },
     "execution_count": 5,
     "metadata": {},
     "output_type": "execute_result"
    }
   ],
   "source": [
    "agent.run('what is langchain?')"
   ]
  },
  {
   "cell_type": "code",
   "execution_count": 6,
   "id": "c475f951-7d14-4790-b6f2-e57af130cd4b",
   "metadata": {
    "tags": []
   },
   "outputs": [
    {
     "name": "stdout",
     "output_type": "stream",
     "text": [
      "\n",
      "\n",
      "\u001b[1m> Entering new AgentExecutor chain...\u001b[0m\n",
      "\u001b[32;1m\u001b[1;3m I need to find out who the CEO of Pipe is\n",
      "Action: Search\n",
      "Action Input: \"CEO of Pipe\"\u001b[0m\n",
      "Observation: \u001b[36;1m\u001b[1;3mLuke Voiles\u001b[0m\n",
      "Thought:\u001b[32;1m\u001b[1;3m I now know the final answer\n",
      "Final Answer: Luke Voiles is the CEO of Pipe.\u001b[0m\n",
      "\n",
      "\u001b[1m> Finished chain.\u001b[0m\n"
     ]
    },
    {
     "data": {
      "text/plain": [
       "'Luke Voiles is the CEO of Pipe.'"
      ]
     },
     "execution_count": 6,
     "metadata": {},
     "output_type": "execute_result"
    }
   ],
   "source": [
    "agent.run('who is the ceo of pipe?')"
   ]
  },
  {
   "cell_type": "code",
   "execution_count": 7,
   "id": "8d87791c-aee0-4577-9fd1-617edd3a7fd1",
   "metadata": {
    "tags": []
   },
   "outputs": [
    {
     "name": "stdout",
     "output_type": "stream",
     "text": [
      "\n",
      "\n",
      "\u001b[1m> Entering new AgentExecutor chain...\u001b[0m\n",
      "\u001b[32;1m\u001b[1;3m I should research this term\n",
      "Action: Search\n",
      "Action Input: \"asthenosphere definition\"\u001b[0m\n",
      "Observation: \u001b[36;1m\u001b[1;3mThe asthenosphere is the mechanically weak and ductile region of the upper mantle of Earth. It lies below the lithosphere, at a depth between ~80 and 200 km below the surface, and extends as deep as 700 km. However, the lower boundary of the asthenosphere is not well defined.\u001b[0m\n",
      "Thought:\u001b[32;1m\u001b[1;3m I now know the final answer\n",
      "Final Answer: The asthenosphere is the mechanically weak and ductile region of the upper mantle of Earth. It lies below the lithosphere, at a depth between ~80 and 200 km below the surface, and extends as deep as 700 km. However, the lower boundary of the asthenosphere is not well defined.\u001b[0m\n",
      "\n",
      "\u001b[1m> Finished chain.\u001b[0m\n"
     ]
    },
    {
     "data": {
      "text/plain": [
       "'The asthenosphere is the mechanically weak and ductile region of the upper mantle of Earth. It lies below the lithosphere, at a depth between ~80 and 200 km below the surface, and extends as deep as 700 km. However, the lower boundary of the asthenosphere is not well defined.'"
      ]
     },
     "execution_count": 7,
     "metadata": {},
     "output_type": "execute_result"
    }
   ],
   "source": [
    "agent.run('what is asthenosphere?')"
   ]
  },
  {
   "cell_type": "code",
   "execution_count": null,
   "id": "52a73b56-2a11-47dd-9523-00fb0f2a2e0d",
   "metadata": {},
   "outputs": [],
   "source": []
  }
 ],
 "metadata": {
  "kernelspec": {
   "display_name": "Python 3 (ipykernel)",
   "language": "python",
   "name": "python3"
  },
  "language_info": {
   "codemirror_mode": {
    "name": "ipython",
    "version": 3
   },
   "file_extension": ".py",
   "mimetype": "text/x-python",
   "name": "python",
   "nbconvert_exporter": "python",
   "pygments_lexer": "ipython3",
   "version": "3.9.6"
  }
 },
 "nbformat": 4,
 "nbformat_minor": 5
}
